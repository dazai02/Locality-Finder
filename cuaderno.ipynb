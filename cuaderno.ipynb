{
 "cells": [
  {
   "cell_type": "markdown",
   "metadata": {},
   "source": [
    "Cargamos primero las librerias"
   ]
  },
  {
   "cell_type": "code",
   "execution_count": 1,
   "metadata": {},
   "outputs": [],
   "source": [
    "import numpy as np\n",
    "import pandas as pd\n",
    "from funciones import transporte, completar"
   ]
  },
  {
   "cell_type": "markdown",
   "metadata": {},
   "source": [
    "Cargamos la base de datos y hacemos analisís básico para verificar que todo este correcto"
   ]
  },
  {
   "cell_type": "code",
   "execution_count": 2,
   "metadata": {},
   "outputs": [],
   "source": [
    "csv_path = 'datasets/housing/housing.csv'\n",
    "csv_suba = 'datasets/housing/suba.csv'\n",
    "csv_barrios_unidos = 'datasets/housing/barrios_unidos.csv'\n",
    "csv_bosa = 'datasets/housing/bosa.csv' \n",
    "csv_engativa = 'datasets/housing/engativa.csv'\n",
    "csv_teusaquillo = 'datasets/housing/teusaquillo.csv'\n",
    "csv_usaquen = 'datasets/housing/usaquen.csv'\n",
    "\n",
    "Xdata = pd.read_csv(csv_path)\n",
    "Xdata_suba = pd.read_csv(csv_suba)\n",
    "Xdata_barrios_unidos = pd.read_csv(csv_barrios_unidos)\n",
    "Xdata_bosa = pd.read_csv(csv_bosa)\n",
    "Xdata_engativa = pd.read_csv(csv_engativa)\n",
    "Xdata_teusaquillo = pd.read_csv(csv_teusaquillo)\n",
    "Xdata_usaquen = pd.read_csv(csv_usaquen)"
   ]
  },
  {
   "cell_type": "markdown",
   "metadata": {},
   "source": [
    "Analisís básico (Como ejemplo usamos la base de datos con todas las localidades)"
   ]
  },
  {
   "cell_type": "code",
   "execution_count": 3,
   "metadata": {},
   "outputs": [
    {
     "name": "stdout",
     "output_type": "stream",
     "text": [
      "<class 'pandas.core.frame.DataFrame'>\n",
      "RangeIndex: 349 entries, 0 to 348\n",
      "Data columns (total 5 columns):\n",
      "localidad       349 non-null object\n",
      "barrio          296 non-null object\n",
      "precio          296 non-null float64\n",
      "habitaciones    296 non-null float64\n",
      "area (m2)       296 non-null float64\n",
      "dtypes: float64(3), object(2)\n",
      "memory usage: 11.0+ KB\n"
     ]
    },
    {
     "data": {
      "text/plain": [
       "count    2.960000e+02\n",
       "mean     2.053526e+06\n",
       "std      3.322613e+06\n",
       "min      3.960000e+05\n",
       "25%      8.000000e+05\n",
       "50%      1.110816e+06\n",
       "75%      1.650000e+06\n",
       "max      3.350001e+07\n",
       "Name: precio, dtype: float64"
      ]
     },
     "execution_count": 3,
     "metadata": {},
     "output_type": "execute_result"
    }
   ],
   "source": [
    "Xdata.head(10)\n",
    "Xdata.info()\n",
    "Xdata.describe()\n",
    "Xdata[\"precio\"].describe()"
   ]
  },
  {
   "cell_type": "markdown",
   "metadata": {},
   "source": [
    "Completamos los datos faltantes"
   ]
  },
  {
   "cell_type": "code",
   "execution_count": 6,
   "metadata": {},
   "outputs": [
    {
     "ename": "ValueError",
     "evalue": "Cannot use median strategy with non-numeric data:\ncould not convert string to float: 'alamos norte '",
     "output_type": "error",
     "traceback": [
      "\u001b[1;31m---------------------------------------------------------------------------\u001b[0m",
      "\u001b[1;31mValueError\u001b[0m                                Traceback (most recent call last)",
      "\u001b[1;32m<ipython-input-6-faea70abd188>\u001b[0m in \u001b[0;36m<module>\u001b[1;34m\u001b[0m\n\u001b[0;32m      1\u001b[0m \u001b[1;31m#Completar faltantes\u001b[0m\u001b[1;33m\u001b[0m\u001b[1;33m\u001b[0m\u001b[1;33m\u001b[0m\u001b[0m\n\u001b[1;32m----> 2\u001b[1;33m \u001b[0mXdata_engativa\u001b[0m \u001b[1;33m=\u001b[0m \u001b[0mcompletar\u001b[0m\u001b[1;33m(\u001b[0m\u001b[0mXdata\u001b[0m\u001b[1;33m)\u001b[0m\u001b[1;33m\u001b[0m\u001b[1;33m\u001b[0m\u001b[0m\n\u001b[0m\u001b[0;32m      3\u001b[0m \u001b[0mXdata_suba\u001b[0m \u001b[1;33m=\u001b[0m \u001b[0mcompletar\u001b[0m\u001b[1;33m(\u001b[0m\u001b[0mXdata_suba\u001b[0m\u001b[1;33m)\u001b[0m\u001b[1;33m\u001b[0m\u001b[1;33m\u001b[0m\u001b[0m\n\u001b[0;32m      4\u001b[0m \u001b[0mXdata_barrios_unidos\u001b[0m \u001b[1;33m=\u001b[0m \u001b[0mcompletar\u001b[0m\u001b[1;33m(\u001b[0m\u001b[0mXdata_barrios_unidos\u001b[0m\u001b[1;33m)\u001b[0m\u001b[1;33m\u001b[0m\u001b[1;33m\u001b[0m\u001b[0m\n\u001b[0;32m      5\u001b[0m \u001b[0mXdata_bosa\u001b[0m \u001b[1;33m=\u001b[0m \u001b[0mcompletar\u001b[0m\u001b[1;33m(\u001b[0m\u001b[0mXdata_bosa\u001b[0m\u001b[1;33m)\u001b[0m\u001b[1;33m\u001b[0m\u001b[1;33m\u001b[0m\u001b[0m\n",
      "\u001b[1;32m~\\Desktop\\Project A\\funciones.py\u001b[0m in \u001b[0;36mcompletar\u001b[1;34m(X)\u001b[0m\n\u001b[0;32m     16\u001b[0m     \u001b[0mimputer_num\u001b[0m \u001b[1;33m=\u001b[0m \u001b[0mSimpleImputer\u001b[0m\u001b[1;33m(\u001b[0m\u001b[0mstrategy\u001b[0m \u001b[1;33m=\u001b[0m \u001b[1;34m\"median\"\u001b[0m\u001b[1;33m)\u001b[0m\u001b[1;33m\u001b[0m\u001b[1;33m\u001b[0m\u001b[0m\n\u001b[0;32m     17\u001b[0m     \u001b[0ma\u001b[0m \u001b[1;33m=\u001b[0m \u001b[0mXi\u001b[0m\u001b[1;33m.\u001b[0m\u001b[0mcolumns\u001b[0m\u001b[1;33m[\u001b[0m\u001b[0mnp\u001b[0m\u001b[1;33m.\u001b[0m\u001b[0msum\u001b[0m\u001b[1;33m(\u001b[0m\u001b[0mXi\u001b[0m\u001b[1;33m.\u001b[0m\u001b[0misna\u001b[0m\u001b[1;33m(\u001b[0m\u001b[1;33m)\u001b[0m\u001b[1;33m)\u001b[0m\u001b[1;33m>\u001b[0m \u001b[1;36m0\u001b[0m\u001b[1;33m]\u001b[0m\u001b[1;33m\u001b[0m\u001b[1;33m\u001b[0m\u001b[0m\n\u001b[1;32m---> 18\u001b[1;33m     \u001b[0mimputer_num\u001b[0m\u001b[1;33m(\u001b[0m\u001b[0mXi\u001b[0m\u001b[1;33m[\u001b[0m\u001b[0ma\u001b[0m\u001b[1;33m]\u001b[0m\u001b[1;33m)\u001b[0m\u001b[1;33m\u001b[0m\u001b[1;33m\u001b[0m\u001b[0m\n\u001b[0m\u001b[0;32m     19\u001b[0m     \u001b[0mXi\u001b[0m\u001b[1;33m[\u001b[0m\u001b[0ma\u001b[0m\u001b[1;33m]\u001b[0m \u001b[1;33m=\u001b[0m \u001b[0mimputer_num\u001b[0m\u001b[1;33m.\u001b[0m\u001b[0mtransform\u001b[0m\u001b[1;33m(\u001b[0m\u001b[0mXi\u001b[0m\u001b[1;33m[\u001b[0m\u001b[0ma\u001b[0m\u001b[1;33m]\u001b[0m\u001b[1;33m)\u001b[0m\u001b[1;33m\u001b[0m\u001b[1;33m\u001b[0m\u001b[0m\n\u001b[0;32m     20\u001b[0m     \u001b[0mXi\u001b[0m\u001b[1;33m.\u001b[0m\u001b[0minfo\u001b[0m\u001b[1;33m(\u001b[0m\u001b[1;33m)\u001b[0m\u001b[1;33m\u001b[0m\u001b[1;33m\u001b[0m\u001b[0m\n",
      "\u001b[1;32mc:\\python\\python37-32\\lib\\site-packages\\sklearn\\impute\\_base.py\u001b[0m in \u001b[0;36mfit\u001b[1;34m(self, X, y)\u001b[0m\n\u001b[0;32m    266\u001b[0m         \u001b[0mself\u001b[0m \u001b[1;33m:\u001b[0m \u001b[0mSimpleImputer\u001b[0m\u001b[1;33m\u001b[0m\u001b[1;33m\u001b[0m\u001b[0m\n\u001b[0;32m    267\u001b[0m         \"\"\"\n\u001b[1;32m--> 268\u001b[1;33m         \u001b[0mX\u001b[0m \u001b[1;33m=\u001b[0m \u001b[0mself\u001b[0m\u001b[1;33m.\u001b[0m\u001b[0m_validate_input\u001b[0m\u001b[1;33m(\u001b[0m\u001b[0mX\u001b[0m\u001b[1;33m)\u001b[0m\u001b[1;33m\u001b[0m\u001b[1;33m\u001b[0m\u001b[0m\n\u001b[0m\u001b[0;32m    269\u001b[0m         \u001b[0msuper\u001b[0m\u001b[1;33m(\u001b[0m\u001b[1;33m)\u001b[0m\u001b[1;33m.\u001b[0m\u001b[0m_fit_indicator\u001b[0m\u001b[1;33m(\u001b[0m\u001b[0mX\u001b[0m\u001b[1;33m)\u001b[0m\u001b[1;33m\u001b[0m\u001b[1;33m\u001b[0m\u001b[0m\n\u001b[0;32m    270\u001b[0m \u001b[1;33m\u001b[0m\u001b[0m\n",
      "\u001b[1;32mc:\\python\\python37-32\\lib\\site-packages\\sklearn\\impute\\_base.py\u001b[0m in \u001b[0;36m_validate_input\u001b[1;34m(self, X)\u001b[0m\n\u001b[0;32m    238\u001b[0m                 new_ve = ValueError(\"Cannot use {} strategy with non-numeric \"\n\u001b[0;32m    239\u001b[0m                                     \"data:\\n{}\".format(self.strategy, ve))\n\u001b[1;32m--> 240\u001b[1;33m                 \u001b[1;32mraise\u001b[0m \u001b[0mnew_ve\u001b[0m \u001b[1;32mfrom\u001b[0m \u001b[1;32mNone\u001b[0m\u001b[1;33m\u001b[0m\u001b[1;33m\u001b[0m\u001b[0m\n\u001b[0m\u001b[0;32m    241\u001b[0m             \u001b[1;32melse\u001b[0m\u001b[1;33m:\u001b[0m\u001b[1;33m\u001b[0m\u001b[1;33m\u001b[0m\u001b[0m\n\u001b[0;32m    242\u001b[0m                 \u001b[1;32mraise\u001b[0m \u001b[0mve\u001b[0m\u001b[1;33m\u001b[0m\u001b[1;33m\u001b[0m\u001b[0m\n",
      "\u001b[1;31mValueError\u001b[0m: Cannot use median strategy with non-numeric data:\ncould not convert string to float: 'alamos norte '"
     ]
    }
   ],
   "source": [
    "#Completar faltantes\n",
    "Xdata_engativa = completar(Xdata)\n",
    "Xdata_suba = completar(Xdata_suba)\n",
    "Xdata_barrios_unidos = completar(Xdata_barrios_unidos)\n",
    "Xdata_bosa = completar(Xdata_bosa)\n",
    "Xdata_engativa = completar(Xdata_engativa)\n",
    "Xdata_teusaquillo = completar(Xdata_teusaquillo)\n",
    "Xdata_usaquen = completar(Xdata_usaquen)"
   ]
  },
  {
   "cell_type": "markdown",
   "metadata": {},
   "source": [
    "Sacamos el promedio de arriendos por localidad:"
   ]
  },
  {
   "cell_type": "code",
   "execution_count": null,
   "metadata": {},
   "outputs": [],
   "source": [
    "median_suba = Xdata_suba[\"precio\"].median()\n",
    "median_barrios_unidos = Xdata_barrios_unidos[\"precio\"].median()\n",
    "median_suba = Xdata_suba[\"precio\"].median()\n",
    "median_suba = Xdata_suba[\"precio\"].median()\n",
    "median_suba = Xdata_suba[\"precio\"].median()\n",
    "median_suba = Xdata_suba[\"precio\"].median()"
   ]
  },
  {
   "cell_type": "markdown",
   "metadata": {},
   "source": [
    "Sacamos el precio minimo de arriendos por localidad:"
   ]
  },
  {
   "cell_type": "code",
   "execution_count": null,
   "metadata": {},
   "outputs": [],
   "source": [
    "min_suba = Xdata_suba[\"precio\"].min()\n",
    "min_barrios_unidos = Xdata_barrios_unidos[\"precio\"].median()\n",
    "min_suba = Xdata_suba[\"precio\"].min()\n",
    "min_suba = Xdata_suba[\"precio\"].min()\n",
    "min_suba = Xdata_suba[\"precio\"].min()\n",
    "min_suba = Xdata_suba[\"precio\"].min()"
   ]
  },
  {
   "cell_type": "markdown",
   "metadata": {},
   "source": [
    "Sacamos el precio máximo de arriendos por localidad:"
   ]
  },
  {
   "cell_type": "code",
   "execution_count": null,
   "metadata": {},
   "outputs": [],
   "source": [
    "max_suba = Xdata_suba[\"precio\"].max()\n",
    "max_barrios_unidos = Xdata_barrios_unidos[\"precio\"].max()\n",
    "max_suba = Xdata_suba[\"precio\"].max()\n",
    "max_suba = Xdata_suba[\"precio\"].max()\n",
    "max_suba = Xdata_suba[\"precio\"].max()\n",
    "max_suba = Xdata_suba[\"precio\"].max()"
   ]
  }
 ],
 "metadata": {
  "kernelspec": {
   "display_name": "Python 3",
   "language": "python",
   "name": "python3"
  },
  "language_info": {
   "codemirror_mode": {
    "name": "ipython",
    "version": 3
   },
   "file_extension": ".py",
   "mimetype": "text/x-python",
   "name": "python",
   "nbconvert_exporter": "python",
   "pygments_lexer": "ipython3",
   "version": "3.7.3"
  }
 },
 "nbformat": 4,
 "nbformat_minor": 2
}
